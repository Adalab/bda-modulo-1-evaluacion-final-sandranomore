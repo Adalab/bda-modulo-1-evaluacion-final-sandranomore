{
 "cells": [
  {
   "cell_type": "markdown",
   "metadata": {},
   "source": [
    "\n",
    "Ejercicio\n",
    "A lo largo de esta evaluación tendrás que crear una clase llamada TiendaOnline que cumpla los siguientes requisitos:\n",
    "\n",
    "La clase TiendaOnline debe tener los siguientes atributos:\n",
    "\n",
    "1. inventario (lista de diccionarios): Un atributo para almacenar los productos\n",
    "en el inventario. Cada producto debe ser representado como un diccionario con las siguientes claves: 'nombre', 'precio', y 'cantidad'. Al principio deberá ser una lista vacía. \n",
    "\n",
    "Ejemplo de como debería ser:\n",
    "[{'nombre': 'Camisa', 'precio': 20, 'cantidad': 40},\n",
    "{'nombre': 'Pantalón', 'precio': 30, 'cantidad': 30}]"
   ]
  },
  {
   "cell_type": "code",
   "execution_count": 1,
   "metadata": {},
   "outputs": [
    {
     "name": "stdout",
     "output_type": "stream",
     "text": [
      "Inventario:\n",
      "Nombre: Camisa, Precio: €20, Cantidad: 40\n",
      "Nombre: Pantalón, Precio: €40, Cantidad: 30\n",
      "Nombre: Abrigo, Precio: €70, Cantidad: 50\n"
     ]
    }
   ],
   "source": [
    "class TiendaOnline: # Define una clase \n",
    "    def __init__(self): #Método especial, aquí se inician los atributos de la clase\n",
    "        self.inventario = []  # Inicia el inventario como una lista vacía\n",
    "\n",
    "    def agregar_producto(self, nombre, precio, cantidad): #define un método con 3 parámetros, nombre, precio y cantidad\n",
    "        \n",
    "        for producto in self.inventario: #Itera sobre cada producto en el inventario\n",
    "            if producto['nombre'] == nombre: #str, Comprueba si el nombre del producto actual coincide con el nombre del producto que se está intentando agregar\n",
    "                producto['precio'] = precio #float, si se encuentra un producto con el mismo nombre, actualiza su precio al valor proporcionado\n",
    "                producto['cantidad'] += cantidad #int, aumenta la cantidad de unidades disponibles para el producto existente en la cantidad proporcionada\n",
    "                return  #Sale de la función después de actualizar el producto existente.\n",
    "        self.inventario.append({'nombre': nombre, 'precio': precio, 'cantidad': cantidad}) # Si el producto no existe, lo agrega al inventario, Este diccionario contiene las claves con los valores proporcionados.\n",
    "        \n",
    "    def mostrar_inventario(self): #método que se utiliza para mostrar el inventario de la tienda.\n",
    "        \n",
    "        print(\"Inventario:\") # Imprime un encabezado para indicar que se está mostrando el inventario.\n",
    "        for producto in self.inventario: #Itera sobre cada producto en el inventario.\n",
    "            print(f\"Nombre: {producto['nombre']}, Precio: €{producto['precio']}, Cantidad: {producto['cantidad']}\") # Imprime los detalles de cada producto, incluido el nombre, el precio y la cantidad disponible.\n",
    "\n",
    "tienda = TiendaOnline() #Crea una instancia de la clase TiendaOnline\n",
    "tienda.agregar_producto(\"Camisa\", 20, 40) #agrega un nuevo producto\n",
    "tienda.agregar_producto(\"Pantalón\", 40, 30)#agrega un nuevo producto\n",
    "tienda.agregar_producto(\"Abrigo\", 70, 50) #agrega un nuevo producto\n",
    "tienda.mostrar_inventario() #Se muestra el inventario completo de la tienda"
   ]
  },
  {
   "cell_type": "markdown",
   "metadata": {},
   "source": [
    "2. clientes (diccionario): Un atributo para llevar un registro de los clientes de la tienda. Cada cliente debe ser representado como un diccionario con las\n",
    "siguientes claves: 'nombre' y 'email'. Al inicio deberá ser un diccionario\n",
    "vacío. Además, cada cliente debe tener un historial de compras. \n",
    "Deberá parecerse a:\n",
    "{'Cliente1': {'email': 'cliente1@email.com', 'compras': []},\n",
    "'Cliente2': {'email': 'cliente2@email.com', 'compras': []}}"
   ]
  },
  {
   "cell_type": "markdown",
   "metadata": {},
   "source": [
    "HE HECHO 2 SOLUCIONES DE ESTE EJERCICIO, UNO NO TIENE CLIENTES REGISTRADOS Y EL OTRO SI"
   ]
  },
  {
   "cell_type": "code",
   "execution_count": 2,
   "metadata": {},
   "outputs": [
    {
     "name": "stdout",
     "output_type": "stream",
     "text": [
      "No hay clientes registrados en la tienda.\n"
     ]
    }
   ],
   "source": [
    "#1ºEJEMPLO\n",
    "class TiendaOnline: #Define una nueva clase llamada TiendaOnline\n",
    "    def __init__(self): #Método especial, se llama cada vez que se crea un nuevo objeto de la clase,aquí se inician los atributos de la clase\n",
    "        self.inventario = []  #Inicia el atributo como una lista vacia\n",
    "        self.clientes = {}    #Inicia el atributo como un diccionario vacío\n",
    "\n",
    "    def mostrar_clientes(self): #Define un método\n",
    "        if self.clientes: #verifica si el diccionario de clientes no está vacio\n",
    "            print(\"Clientes:\") # imprime la información de los clientes\n",
    "            for nombre, datos in self.clientes.items(): # Itera sobre cada par clave-valor en el diccionario clientes. nombre será el nombre del cliente y datos será un diccionario que contiene la información del cliente\n",
    "                print(f\"Nombre: {nombre}, Email: {datos['email']}, Historial de compras: {datos.get('historial_compras', [])}\")\n",
    "        else: #Se ejecuta si el diccionario de clientes está vacío.\n",
    "            print(\"No hay clientes registrados en la tienda.\")\n",
    "\n",
    "tienda = TiendaOnline()  #creamos tienda como instancia de la clase TiendaOnline\n",
    "tienda.mostrar_clientes() #Llama al método mostrar_clientes en la instancia tienda para mostrar la información de los clientes "
   ]
  },
  {
   "cell_type": "code",
   "execution_count": 3,
   "metadata": {},
   "outputs": [
    {
     "name": "stdout",
     "output_type": "stream",
     "text": [
      "Nuevo cliente agregado: Sandra Moreno (Sandra@gmail.com)\n",
      "Nuevo cliente agregado: Juan Perez (Juan@gmail.com)\n",
      "Clientes:\n",
      "Nombre: Sandra Moreno, Email: Sandra@gmail.com, Historial de compras: [{'producto': 'Camisa', 'precio': 20}, {'producto': 'Pantalón', 'precio': 30}]\n",
      "Nombre: Juan Perez, Email: Juan@gmail.com, Historial de compras: []\n"
     ]
    }
   ],
   "source": [
    "#2º EJEMPLO\n",
    "class TiendaOnline: #Define una nueva clase con 2 atributos\n",
    "    def __init__(self): #Método especial, se llama cada vez que se crea un nuevo objeto de la clase. Aquí se inicializan los atributos de la clase.\n",
    "        self.inventario = []  #Inicia el atributo como una lista vacia\n",
    "        self.clientes = {}   #Inicia el atributo como un diccionario vacío\n",
    "\n",
    "    def agregar_cliente(self, nombre, email, historial_compras=None): #Si no se proporciona ningún historial de compras al llamar al método agregar_cliente, este tomará automáticamente el valor None\n",
    "    #Agrega un nuevo cliente al registro de clientes\n",
    "        if nombre not in self.clientes:\n",
    "            if historial_compras is None: #Si el historial de compras no se proporciona al llamar al método, se inicializa como una lista vacía automáticamente\n",
    "                historial_compras = []\n",
    "            self.clientes[nombre] = {'email': email, 'historial_compras': historial_compras}\n",
    "            print(f\"Nuevo cliente agregado: {nombre} ({email})\")\n",
    "        else:\n",
    "            print(f\"El cliente {nombre} ya está registrado en la tienda.\")\n",
    "\n",
    "    def mostrar_clientes(self): #Muestra todos los clientes registrados en la tienda, con su correo electrónico e historial de compras.\n",
    "        print(\"Clientes:\")\n",
    "        for nombre, datos in self.clientes.items():\n",
    "            print(f\"Nombre: {nombre}, Email: {datos['email']}, Historial de compras: {datos['historial_compras']}\")\n",
    "\n",
    "tienda = TiendaOnline() #tienda es una instancia de la clase TiendaOnline\n",
    "tienda.agregar_cliente(\"Sandra Moreno\", \"Sandra@gmail.com\", [{\"producto\": \"Camisa\", \"precio\": 20}, {\"producto\": \"Pantalón\", \"precio\": 30}])\n",
    "tienda.agregar_cliente(\"Juan Perez\", \"Juan@gmail.com\")\n",
    "tienda.mostrar_clientes()\n"
   ]
  },
  {
   "cell_type": "markdown",
   "metadata": {},
   "source": [
    "3. ventas_totales (float): Un atributo para llevar un registro de las ventas\n",
    "totales de la tienda. Inicializalo con valor 0."
   ]
  },
  {
   "cell_type": "code",
   "execution_count": 4,
   "metadata": {},
   "outputs": [
    {
     "name": "stdout",
     "output_type": "stream",
     "text": [
      "Ventas totales: 0.0\n"
     ]
    }
   ],
   "source": [
    "class TiendaOnline: #Define una nueva clase con 3 atributos\n",
    "    def __init__(self): \n",
    "        self.inventario = []       # Lista de productos en el inventario\n",
    "        self.clientes = {}         # Diccionario de clientes\n",
    "        self.ventas_totales = 0.0  # Registro de las ventas totales\n",
    "        \n",
    "tienda = TiendaOnline() #tienda es una instancia de la clase TiendaOnline\n",
    "print(\"Ventas totales:\", tienda.ventas_totales)  #Mostrar ventas totales inicializadas en 0\n"
   ]
  },
  {
   "cell_type": "markdown",
   "metadata": {},
   "source": [
    "La clase TiendaOnline debe tener los siguientes métodos:\n",
    "\n",
    "1. agregar_producto(self, nombre, precio, cantidad): Este método agrega un producto al inventario o actualiza su cantidad si ya existe. Debe recibir el nombre, precio y cantidad del producto como parámetros.\n",
    "-Itera a través del inventario y compara los nombres de los productos con el nombre proporcionado.\n",
    "-Si el producto ya existe, actualiza la cantidad.\n",
    "-Si no existe, agrega un nuevo producto al inventario."
   ]
  },
  {
   "cell_type": "code",
   "execution_count": 5,
   "metadata": {},
   "outputs": [
    {
     "name": "stdout",
     "output_type": "stream",
     "text": [
      "Se agregó un nuevo producto: Camisa\n",
      "Se agregó un nuevo producto: Pantalón\n",
      "Se agregó un nuevo producto: Abrigo\n"
     ]
    }
   ],
   "source": [
    "class TiendaOnline:#define una clase con 3 atributos\n",
    "    def __init__(self): #self representa la instancia de la clase lo que permite acceder a los atributos y métodos de la clase dentro de este método.\n",
    "        self.inventario = []       # Lista de productos en el inventario\n",
    "        self.clientes = {}         # Diccionario de clientes\n",
    "        self.ventas_totales = 0.0  # Registro de las ventas totales\n",
    "\n",
    "    def agregar_producto(self, nombre, precio, cantidad): #Método que toma 3 parámetros, nombre, precio y cantidad\n",
    "       \n",
    "        encontrado = False #variable booleana q se usará para verificar si se ha encontrado el producto en el inventario\n",
    "\n",
    "        for producto in self.inventario: #bucle for, itera sobre cada producto en el inventario para verificar si ya existe un producto con el mismo nombre\n",
    "            \n",
    "            if producto['nombre'] == nombre: #condición If dentro del bucle comprueba si el nombre del producto actual coincide con el nombre del producto que se quiere agregar\n",
    "                producto['cantidad'] += cantidad #Si hay coincidencia, actualiza la cantidad del producto existente sumando la cantidad proporcionada.\n",
    "\n",
    "                print(f\"Se actualizó la cantidad del producto {nombre}\")\n",
    "                encontrado = True #variable booleana para indicar si se ha encontrado el producto \n",
    "                break #sale del bucle cuando se cumple una condición específica\n",
    "\n",
    "        if not encontrado: #verifica si la variable encontrada es falsa y crea un nuevo diccionario\n",
    "            nuevo_producto = {'nombre': nombre, 'precio': precio, 'cantidad': cantidad}\n",
    "            self.inventario.append(nuevo_producto) #agrega el diccionario a la lista inventario\n",
    "            print(f\"Se agregó un nuevo producto: {nombre}\") #imprime mensaje\n",
    "\n",
    "\n",
    "tienda = TiendaOnline() #tienda es una instancia de la clase TiendaOnline\n",
    "tienda.agregar_producto(\"Camisa\", 20, 3)  # Agrega un nuevo producto\n",
    "tienda.agregar_producto(\"Pantalón\", 30, 4)  # Actualiza la cantidad de un producto existente\n",
    "tienda.agregar_producto(\"Abrigo\", 50, 1)  # Actualiza la cantidad de un producto existente\n",
    "\n"
   ]
  },
  {
   "cell_type": "markdown",
   "metadata": {},
   "source": [
    "2.ver_inventario(self): Muestra el inventario de productos con sus detalles.\n",
    "-Utiliza un bucle for para recorrer el inventario.\n",
    "-Imprime los detalles (nombre, precio, cantidad) de cada producto.\n",
    "-Debería verse:\n",
    "Nombre: Camisa, Precio: $20, Cantidad: 50\n",
    "Nombre: Pantalón, Precio: $30, Cantidad: 30\n",
    "Nombre: Zapatos, Precio: $50, Cantidad: 40"
   ]
  },
  {
   "cell_type": "code",
   "execution_count": 6,
   "metadata": {},
   "outputs": [
    {
     "name": "stdout",
     "output_type": "stream",
     "text": [
      "Inventario:\n",
      "Nombre: Camisa, Precio: €20, Cantidad: 5\n",
      "Nombre: Pantalón, Precio: €30, Cantidad: 3\n",
      "Nombre: Zapatos, Precio: €50, Cantidad: 4\n"
     ]
    }
   ],
   "source": [
    "class TiendaOnline: #define una clase con 3 atributos\n",
    "    def __init__(self):\n",
    "        self.inventario = [ \n",
    "            {'nombre': 'Camisa', 'precio': 20, 'cantidad': 5},\n",
    "            {'nombre': 'Pantalón', 'precio': 30, 'cantidad': 3},\n",
    "            {'nombre': 'Zapatos', 'precio': 50, 'cantidad': 4}\n",
    "        ]                         # Lista de diccionarios con 3 claves\n",
    "        self.clientes = {}        # Diccionario vacío\n",
    "        self.ventas_totales = 0.0 # Registro de las ventas totales\n",
    "\n",
    "    def ver_inventario(self): #define un método\n",
    "        print(\"Inventario:\") #imprime el contenido de inventario\n",
    "        for producto in self.inventario: #itera sobre cada producto en el inventario\n",
    "         print(f\"Nombre: {producto['nombre']}, Precio: €{producto['precio']}, Cantidad: {producto['cantidad']}\")\n",
    "\n",
    "\n",
    "tienda = TiendaOnline() # crea una instancia de la clase TiendaOnline llamada tienda\n",
    "tienda.ver_inventario() #llama al método ver_inventario en la instancia de la tienda \n"
   ]
  },
  {
   "cell_type": "markdown",
   "metadata": {},
   "source": [
    "3. buscar_producto(self, nombre): Busca un producto en el inventario por\n",
    "nombre y muestra sus detalles si se encuentra. Debe recibir el nombre del producto como parámetro.\n",
    "-Utiliza un bucle for para recorrer el inventario.\n",
    "-Compara los nombres de los productos con el nombre proporcionado.\n",
    "-Si se encuentra el producto, imprime sus detalles.\n",
    "Debe mostrar:\n",
    "Nombre: Camisa, Precio: $20, Cantidad: 40"
   ]
  },
  {
   "cell_type": "code",
   "execution_count": null,
   "metadata": {},
   "outputs": [],
   "source": [
    "class TiendaOnline: #define una nueva clase con 3 atributos, inventario, cliente y ventas totales\n",
    "    def __init__(self):\n",
    "        self.inventario = [ \n",
    "            {'nombre': 'Camisa', 'precio': 20, 'cantidad': 5},\n",
    "            {'nombre': 'Pantalón', 'precio': 30, 'cantidad': 3},\n",
    "            {'nombre': 'Zapatos', 'precio': 50, 'cantidad': 4}\n",
    "        ]                          # Lista de diccionarios con 3 claves, nombre, precio, cantidad\n",
    "        self.clientes = {}         # Diccionario vacío\n",
    "        self.ventas_totales = 0.0  # Registro de las ventas totales\n",
    "\n",
    "    def buscar_producto(self, nombre): #define de método con 1 parámetro, nombre\n",
    "        encontrado = False #variable booleana que se usará para verificar si se ha encontrado el producto en el inventario\n",
    "        for producto in self.inventario: #bucle for, itera sobre cada producto en el inventario para verificar si ya existe un producto con el mismo nombre\n",
    "            if producto['nombre'] == nombre:\n",
    "                print(f\"Nombre: {producto['nombre']}, Precio: €{producto['precio']}, Cantidad: {producto['cantidad']}\")\n",
    "                encontrado = True #variable booleana para indicar si se ha encontrado el producto \n",
    "                break #sale del bucle cuando se cumple una condición específica\n",
    "        \n",
    "        if not encontrado: #Si no encuentra el producto, imprime un mensaje indicando que no se encontró ningún producto con el nombre dado\n",
    "            print(f\"No se encontró ningún producto con el nombre {nombre}\")\n",
    "\n",
    "tienda = TiendaOnline() #crea una instancia de la clase TiendaOnline llamada tienda\n",
    "\n",
    "tienda.buscar_producto(\"Camisa\") #llama al método buscar_producto en la instancia de la tienda\n",
    "tienda.buscar_producto(\"Zapatos\")\n",
    "tienda.buscar_producto(\"Sombrero\")\n"
   ]
  },
  {
   "cell_type": "markdown",
   "metadata": {},
   "source": [
    "4. actualizar_stock(self, nombre, cantidad): Actualiza el stock de un\n",
    "producto en el inventario. Debe recibir el nombre del producto y la cantidad a\n",
    "agregar o quitar como parámetros.\n",
    "-Utiliza un bucle for para recorrer el inventario.\n",
    "-Busca el producto por nombre.\n",
    "-Actualiza la cantidad según la entrada del usuario.\n",
    "-Si el producto no esta en el inventario muestra un mensaje indicándolo."
   ]
  },
  {
   "cell_type": "code",
   "execution_count": 7,
   "metadata": {},
   "outputs": [
    {
     "name": "stdout",
     "output_type": "stream",
     "text": [
      "Se actualizó el stock del producto Camisa en el inventario. Nuevo stock: 15\n",
      "Se actualizó el stock del producto Pantalón en el inventario. Nuevo stock: 13\n",
      "Se actualizó el stock del producto Zapatos en el inventario. Nuevo stock: 24\n"
     ]
    }
   ],
   "source": [
    "class TiendaOnline: #crea una clase con 3 atributos\n",
    "    def __init__(self): #self representa la instancia de la clase lo que permite acceder a los atributos y métodos de la clase dentro de este método\n",
    "        self.inventario = [ \n",
    "            {'nombre': 'Camisa', 'precio': 20, 'cantidad': 5},\n",
    "            {'nombre': 'Pantalón', 'precio': 30, 'cantidad': 3},\n",
    "            {'nombre': 'Zapatos', 'precio': 50, 'cantidad': 4}\n",
    "        ]                          # Lista de productos en el inventario\n",
    "        self.clientes = {}         # Diccionario de clientes\n",
    "        self.ventas_totales = 0.0  # Registro de las ventas totales\n",
    "\n",
    "    def actualizar_stock(self, nombre, cantidad): #método que toma 2 parámetros, nombre y cantidad\n",
    "        \n",
    "        encontrado = False #variable booleana que se usará para verificar si se ha encontrado el producto en el inventario\n",
    "        \n",
    "        for producto in self.inventario: #bucle for, itera sobre cada producto en el inventario para verificar si ya existe un producto con el mismo nombre\n",
    "            if producto['nombre'] == nombre: #condición If dentro del bucle comprueba si el nombre del producto actual coincide con el nombre del producto que se quiere agregar\n",
    "                producto['cantidad'] += cantidad #Si hay coincidencia, actualiza la cantidad del producto existente sumando la cantidad proporcionada\n",
    "                print(f\"Se actualizó el stock del producto {nombre} en el inventario. Nuevo stock: {producto['cantidad']}\")\n",
    "                encontrado = True #variable booleana para indicar si se ha encontrado el producto \n",
    "                break #sale del bucle cuando se cumple una condición específica\n",
    "        \n",
    "        if not encontrado: #verifica si la variable encontrado es falsa e imprime mensaje\n",
    "            print(f\"No se encontró ningún producto con el nombre {nombre}\")\n",
    "\n",
    "tienda = TiendaOnline() #tienda es una instancia de la clase TiendaOnline\n",
    "\n",
    "tienda.actualizar_stock(\"Camisa\", 10) # Actualiza la cantidad de un producto existente\n",
    "tienda.actualizar_stock(\"Pantalón\", 10)# Actualiza la cantidad de un producto existente\n",
    "tienda.actualizar_stock(\"Zapatos\", 20)# Actualiza la cantidad de un producto existente\n"
   ]
  },
  {
   "cell_type": "markdown",
   "metadata": {},
   "source": [
    "5. eliminar_producto(self, nombre): Elimina un producto del inventario por\n",
    "nombre. Debe recibir el nombre del producto como parámetro.\n",
    "-Utiliza un bucle for para recorrer el inventario.\n",
    "-Busca el producto por nombre.\n",
    "-Elimina el producto del inventario si existe.\n",
    "-Si el producto no esta en el inventario muestra un mensaje indicándolo."
   ]
  },
  {
   "cell_type": "code",
   "execution_count": 8,
   "metadata": {},
   "outputs": [
    {
     "name": "stdout",
     "output_type": "stream",
     "text": [
      "El producto 'Camisa' ha sido eliminado del inventario.\n",
      "No se encontró el producto 'Sombrero' en el inventario.\n"
     ]
    }
   ],
   "source": [
    "class TiendaOnline:\n",
    "    def __init__(self): #define una clase con 3 atributos\n",
    "        self.inventario = [ \n",
    "            {'nombre': 'Camisa', 'precio': 20, 'cantidad': 5},\n",
    "            {'nombre': 'Pantalón', 'precio': 30, 'cantidad': 3},\n",
    "            {'nombre': 'Zapatos', 'precio': 50, 'cantidad': 4}\n",
    "        ]                          # Lista de productos en el inventario\n",
    "        self.clientes = {}         # Diccionario de clientes\n",
    "        self.ventas_totales = 0.0  # Registro de las ventas totales\n",
    "\n",
    "    def eliminar_producto(self, nombre): #método que toma el nombre del producto que desea eliminar\n",
    "        \n",
    "        producto_a_eliminar = None #variable None porque todavía no tiene un valor asignado\n",
    "        for producto in self.inventario: #itera sobre cada producto en el inventario\n",
    "            #Si el nombre del producto coincide con el nombre proporcionado, se asigna el producto a la variable producto_a_eliminar y se rompe el bucle\n",
    "            if producto['nombre'] == nombre:\n",
    "                producto_a_eliminar = producto\n",
    "                break\n",
    "        \n",
    "        if producto_a_eliminar: #Si se encontró el producto, se elimina del inventario utilizando el método remove() de la lista\n",
    "            self.inventario.remove(producto_a_eliminar)\n",
    "            print(f\"El producto '{nombre}' ha sido eliminado del inventario.\")\n",
    "        else: #Si no se encontró el producto, se imprime un mensaje indicando que el producto no se encontró en el inventario\n",
    "            print(f\"No se encontró el producto '{nombre}' en el inventario.\")\n",
    "\n",
    "\n",
    "tienda = TiendaOnline() #tienda es una instancia de la clase TiendaOnline\n",
    "\n",
    "tienda.eliminar_producto('Camisa') # elimina un producto existente\n",
    "tienda.eliminar_producto('Sombrero') # elimina un producto que no existe\n"
   ]
  },
  {
   "cell_type": "markdown",
   "metadata": {},
   "source": [
    "6. calcular_valor_inventario(self): Calcula y muestra el valor total del\n",
    "inventario.\n",
    "-Utiliza un bucle for para calcular el valor total del inventario.\n",
    "-Itera a través del inventario y suma el valor de cada producto (precio x\n",
    "cantidad). Es decir, calcula el valor total del inventario.\n",
    "\n",
    "Ejemplo:\n",
    "#si tenemos 5 camisas que valen 5 euros\n",
    "#y 10 calcetines que valen 1 euro\n",
    "#este método te tiene que devolver: 35 euros\n",
    "\n",
    "valor_camisas = 5 * 5\n",
    "valor_calcetines = 10 * 1\n",
    "valor_camisas + valor_calcetines = 35"
   ]
  },
  {
   "cell_type": "code",
   "execution_count": 9,
   "metadata": {},
   "outputs": [
    {
     "name": "stdout",
     "output_type": "stream",
     "text": [
      "El valor total del inventario es: €3900\n"
     ]
    }
   ],
   "source": [
    "class TiendaOnline:\n",
    "    def __init__(self):\n",
    "        self.inventario = [ \n",
    "            {'nombre': 'Camisa', 'precio': 20, 'cantidad': 50},\n",
    "            {'nombre': 'Pantalón', 'precio': 30, 'cantidad': 30},\n",
    "            {'nombre': 'Zapatos', 'precio': 50, 'cantidad': 40}\n",
    "        ]                          # Lista de productos en el inventario\n",
    "        self.clientes = {}         # Diccionario de clientes\n",
    "        self.ventas_totales = 0.0  # Registro de las ventas totales\n",
    "\n",
    "    def calcular_valor_inventario(self): #Método que calcula y muestra el valor total del inventario\n",
    "        valor_total = 0\n",
    "        for producto in self.inventario:\n",
    "            #El valor total se calcula sumando el producto del precio y la cantidad de cada producto en el inventario.\n",
    "            valor_total += producto['precio'] * producto['cantidad']\n",
    "        print(f\"El valor total del inventario es: €{valor_total}\")\n",
    "\n",
    "tienda = TiendaOnline()\n",
    "tienda.calcular_valor_inventario() #Calcula el valor total"
   ]
  },
  {
   "cell_type": "markdown",
   "metadata": {},
   "source": [
    "7. buscar_producto_regex(self, patron): Busca productos en el inventario\n",
    "que coincidan con un patrón de búsqueda en formato regex en el nombre y\n",
    "muestra los resultados. Debe recibir el patrón como parámetro.\n",
    "-Utiliza un bucle for para recorrer el inventario.\n",
    "-Utiliza la función más apropiada para buscar coincidencias con el patrón\n",
    "de expresión regular.\n",
    "-Agrega los productos encontrados a una lista y luego imprime sus\n",
    "detalles."
   ]
  },
  {
   "cell_type": "code",
   "execution_count": 10,
   "metadata": {},
   "outputs": [
    {
     "name": "stdout",
     "output_type": "stream",
     "text": [
      "Productos encontrados:\n",
      "Nombre: Zapatos, Precio: €50, Cantidad: 40\n",
      "Productos encontrados:\n",
      "Nombre: Camisa, Precio: €20, Cantidad: 50\n"
     ]
    }
   ],
   "source": [
    "import re #importación del módulo con expresiones regulares, regex\n",
    "\n",
    "class TiendaOnline: #crea una clase con 3 atributos\n",
    "    def __init__(self): #self representa la instancia de la clase lo que permite acceder a los atributos y métodos de la clase dentro de este método\n",
    "        self.inventario = [ \n",
    "            {'nombre': 'Camisa', 'precio': 20, 'cantidad': 50},\n",
    "            {'nombre': 'Pantalón', 'precio': 30, 'cantidad': 30},\n",
    "            {'nombre': 'Zapatos', 'precio': 50, 'cantidad': 40}\n",
    "        ] \n",
    "        self.clientes = {}         # Diccionario de clientes\n",
    "        self.ventas_totales = 0.0  # Registro de las ventas totales\n",
    "\n",
    "#Este método recibe un patrón de búsqueda en formato de expresión regular y busca productos en el inventario cuyos nombres coincidan con ese patrón\n",
    "    def buscar_producto_regex(self, patron):\n",
    "        productos_encontrados = [] #lista vacia de productos\n",
    "        for producto in self.inventario: #itera sobre cada producto del inventario\n",
    "            if re.search(patron, producto['nombre'], re.IGNORECASE):#busca coincidencias del patrón en el nombre del producto, en mayus y minus\n",
    "                productos_encontrados.append(producto)#si se encuentra coincidencia se agrega a productos_encontrados\n",
    "        \n",
    "        if productos_encontrados: #verifica si la lista no está vacia,se encontraron productos q coinciden con el patrón de búsqueda\n",
    "            print(\"Productos encontrados:\") #imprime mensaje para indicar q se encontraron productos que coinciden con el patrón\n",
    "            for producto in productos_encontrados: #Este bucle for itera sobre cada producto en la lista productos_encontrados para imprimir los detalles de cada producto encontrado\n",
    "                print(f\"Nombre: {producto['nombre']}, Precio: €{producto['precio']}, Cantidad: {producto['cantidad']}\")\n",
    "        else: #Este bloque se ejecutará si no se encontramos productos que coincidan con el patrón de búsqueda.\n",
    "            print(\"No se encontraron productos que coincidan con el patrón de búsqueda.\")\n",
    "\n",
    "tienda = TiendaOnline() #tienda es una instancia de la clase TiendaOnline\n",
    "tienda.buscar_producto_regex(\"Zapatos\") #Busca producto\n",
    "tienda.buscar_producto_regex(\"Camisa\")\n"
   ]
  },
  {
   "cell_type": "markdown",
   "metadata": {},
   "source": [
    "8. realizar_compra(self): Permite a un cliente realizar una compra\n",
    "seleccionando productos del inventario. Debe interactuar con el cliente para\n",
    "seleccionar productos y calcular el costo total de la compra.\n",
    "-Utiliza un bucle while para permitir al cliente realizar múltiples compras.\n",
    "-Muestra el inventario y solicita al cliente ingresar el nombre del producto\n",
    "que desea comprar.\n",
    "-Registra los productos seleccionados en un carrito y actualiza el\n",
    "inventario.\n",
    "-Calcula el costo total de la compra."
   ]
  },
  {
   "cell_type": "code",
   "execution_count": 11,
   "metadata": {},
   "outputs": [
    {
     "name": "stdout",
     "output_type": "stream",
     "text": [
      "Compra realizada: 'pantalon' x 3 por un total de €90\n",
      "Producto no encontrado en el inventario.\n",
      "¡Gracias por su compra!\n"
     ]
    }
   ],
   "source": [
    "class TiendaOnline: #define una clase con 1 atributo\n",
    "    def __init__(self): #Este es el método constructor especial de la clase\n",
    "        self.inventario = [ \n",
    "            {'nombre': 'camisa', 'precio': 20, 'cantidad': 10},\n",
    "            {'nombre': 'pantalon', 'precio': 30, 'cantidad': 8},\n",
    "            {'nombre': 'zapatos', 'precio': 50, 'cantidad': 20}\n",
    "        ] #se inicia el inventario de la tienda con una lista de diccionarios que representan los productos disponibles.\n",
    "\n",
    "    def realizar_compra(self):#método de la instancia de la clase Tienda_online que permite al usuario realizar compras en la tienda\n",
    "        while True: #permite al usuario realizar varias compras hasta que escriba fin\n",
    "            nombre_producto = input(\"Ingrese el nombre del producto que desea comprar (o 'fin' para salir): \") #Solicita al usuario que ingrese el nombre del producto que desea comprar\n",
    "            #Verifica si el usuario ha ingresado fin para salir. Si es así, imprime un mensaje de agradecimiento y sale del bucle.\n",
    "            if nombre_producto.lower() == 'fin':\n",
    "                print(\"¡Gracias por su compra!\")\n",
    "                break\n",
    "            else: #Si el usuario no ha ingresado fin, continúa con el proceso de compra\n",
    "                producto_encontrado = None #inicia la variable q se utilizará para almacenar el producto seleccionado por el usuario\n",
    "                for producto in self.inventario: #itera sobre cada producto en el inventario para buscar el producto seleccionado\n",
    "                    if producto['nombre'].lower() == nombre_producto.lower(): #Compara el nombre del producto en el inventario con el nombre ingresado, ignorando diferencias de mayus y minus\n",
    "                        producto_encontrado = producto #Si se encuentra un producto que coincide, se asigna a producto_encontrado\n",
    "                        break\n",
    "                if producto_encontrado:\n",
    "                    cantidad = int(input(f\"Ingrese la cantidad de '{producto_encontrado['nombre']}' que desea comprar: \")) #Solicita al usuario que ingrese la cantidad de productos que desea comprar\n",
    "                    if cantidad <= producto_encontrado['cantidad']: #Verifica si hay suficiente stock disponible del producto seleccionado\n",
    "                        producto_encontrado['cantidad'] -= cantidad #Reduce la cantidad en el inventario del producto seleccionado para reflejar la compra\n",
    "                        costo_total = producto_encontrado['precio'] * cantidad #Calcula el costo total de la compra multiplicando el precio por la cantidad\n",
    "                        print(f\"Compra realizada: '{producto_encontrado['nombre']}' x {cantidad} por un total de €{costo_total}\")\n",
    "                    else:\n",
    "                        print(\"No hay suficiente stock disponible.\") #Si no hay suficiente stock disponible del producto seleccionado, imprime un mensaje indicando que no hay suficiente stock\n",
    "                else:\n",
    "                    print(\"Producto no encontrado en el inventario.\") #imprime un mensaje indicando que el producto no se encontró en el inventario\n",
    "\n",
    "    def ver_inventario(self): #Método de la instancia de la clase, para mostrar el inventario actual de la tienda\n",
    "        for producto in self.inventario: #itera sobre cada producto en el inventario\n",
    "            print(f\"Nombre: {producto['nombre']}, Precio: €{producto['precio']}, Cantidad: {producto['cantidad']}\")\n",
    "\n",
    "tienda = TiendaOnline() #crea una instancia de la clase tiendaOnline\n",
    "tienda.realizar_compra() #llama al método para iniciar el proceso de compra\n"
   ]
  },
  {
   "cell_type": "markdown",
   "metadata": {},
   "source": [
    "9. procesar_pago(self): Procesa el pago de una compra, calcula el cambio y\n",
    "muestra un mensaje de confirmación.\n",
    "-Utiliza un bloque try...except para manejar excepciones.\n",
    "-Solicita al cliente ingresar la cantidad total y la cantidad de pago usando\n",
    "un input.\n",
    "-Calcula el cambio y muestra un mensaje de pago exitoso o un error en\n",
    "caso de monto insuficiente."
   ]
  },
  {
   "cell_type": "code",
   "execution_count": 13,
   "metadata": {},
   "outputs": [
    {
     "name": "stdout",
     "output_type": "stream",
     "text": [
      "Pago exitoso. Su cambio es: €5.23\n"
     ]
    }
   ],
   "source": [
    "class TiendaOnline: #define la clase TiendaOnline\n",
    "    def __init__(self):#método que inicia el inventario de la tienda como una lista vacía\n",
    "        self.inventario = []\n",
    "\n",
    "    def procesar_pago(self): #método de instancia de la clase que se utiliza para procesar el pago\n",
    "        try: #Inicia un bloque try-except para manejar posibles errores durante la ejecución del código.\n",
    "            total = float(input(\"Ingrese el monto total de la compra: \")) #Solicita al usuario que ingrese el monto total de la compra y lo convierte en número float\n",
    "            pago = float(input(\"Ingrese la cantidad de pago: \")) #Solicita al usuario que ingrese la cantidad de pago y lo convierte a un número float\n",
    "\n",
    "            if pago >= total: #Comprueba si la cantidad de pago ingresada por el usuario es > o = al monto total de la compra\n",
    "                cambio = pago - total\n",
    "                print(f\"Pago exitoso. Su cambio es: €{cambio:.2f}\") #imprime mensaje y muestra el cambio con formato de 2 decimales\n",
    "            else: #Si la cantidad de pago es menor que el monto total de la compra, imprime un mensaje indicando que el monto es insuficiente \n",
    "                print(\"Monto insuficiente. El pago no puede ser procesado.\")\n",
    "        except ValueError: #recoge cualquier excepción que ocurra durante la conversión de entrada a float\n",
    "            print(\"Error: Ingrese valores numéricos válidos para el monto total y el pago.\")\n",
    "\n",
    "tienda = TiendaOnline() #Crea una instancia de la clase TiendaOnline\n",
    "tienda.procesar_pago() #Llama al método procesar_pago para que el usuario ingrese el monto total y la cantidad de pago y luego procese el pago mostrando el cambio\n"
   ]
  },
  {
   "cell_type": "markdown",
   "metadata": {},
   "source": [
    "10. agregar_cliente(self, nombre, email): Agrega un nuevo cliente al registro\n",
    "de clientes. Debe recibir el nombre y el correo electrónico del cliente como\n",
    "parámetros.\n",
    "-Agrega un cliente al diccionario de clientes con su nombre y correo\n",
    "electrónico."
   ]
  },
  {
   "cell_type": "code",
   "execution_count": 14,
   "metadata": {},
   "outputs": [
    {
     "name": "stdout",
     "output_type": "stream",
     "text": [
      "Nuevo cliente agregado: Sandra Moreno (sandra@gmail.com)\n",
      "Nuevo cliente agregado: Juan Pérez (juan@gmail.com)\n",
      "Total de clientes: 4\n"
     ]
    }
   ],
   "source": [
    "class TiendaOnline: #define la clase TiendaOnline\n",
    "    def __init__(self): #método constructor con 2 atributos\n",
    "        self.inventario = []  # Lista de productos en el inventario\n",
    "        self.clientes = {     # Diccionario de clientes\n",
    "            \"Maria\": {'email': 'maria@gmail.com'},\n",
    "            \"Andrea\": {'email': 'andrea@gmail.com'}\n",
    "        }\n",
    "\n",
    "    def agregar_cliente(self, nombre, email): #Método con 2 parámetros que permite agregar un nuevo cliente\n",
    "        \n",
    "        if nombre not in self.clientes: #Verifica si el cliente ya está en el diccionario de clientes. Si no está, agrega un nuevo cliente con su nombre y mail\n",
    "            self.clientes[nombre] = {'email': email}\n",
    "            print(f\"Nuevo cliente agregado: {nombre} ({email})\")\n",
    "        else: #Si el cliente ya está registrado, imprime un mensaje indicando que el cliente ya está registrado\n",
    "            print(f\"El cliente {nombre} ya está registrado en la tienda.\")\n",
    "\n",
    "    def total_clientes(self): #método que devuelve el número total de clientes registrados en la tienda\n",
    "        return len(self.clientes) #calcula la longitud del diccionario de clientes\n",
    "    \n",
    "\n",
    "tienda = TiendaOnline() #instancia de la clase TiendaOnline\n",
    "tienda.agregar_cliente(\"Sandra Moreno\", \"sandra@gmail.com\") #agrega nuevo cliente\n",
    "tienda.agregar_cliente(\"Juan Pérez\", \"juan@gmail.com\")\n",
    "\n",
    "print(\"Total de clientes:\", tienda.total_clientes()) #Este código imprimirá el número total de clientes registrados en la tienda.\n"
   ]
  },
  {
   "cell_type": "markdown",
   "metadata": {},
   "source": [
    "11. ver_clientes(self): Muestra la lista de clientes registrados con sus nombres\n",
    "y correos electrónicos.\n",
    "-Utiliza un bucle for para recorrer la base de datos de clientes.\n",
    "-Imprime los detalles de cada cliente (nombre y correo electrónico)."
   ]
  },
  {
   "cell_type": "code",
   "execution_count": 15,
   "metadata": {},
   "outputs": [
    {
     "name": "stdout",
     "output_type": "stream",
     "text": [
      "Lista de clientes registrados:\n",
      "Nombre: Maria Garcia, Email: maria@gmail.com\n",
      "Nombre: Andrea Lopez, Email: andrea@gmail.com\n"
     ]
    }
   ],
   "source": [
    "class TiendaOnline:\n",
    "    def __init__(self):\n",
    "        self.inventario = []  #Define un atributo que es una lista vacía\n",
    "        self.clientes = {   #Diccionario, cada cliente tiene un nombre como clave y un diccionario con su dirección de correo electrónico como valor\n",
    "            \"Maria Garcia\": {'email': 'maria@gmail.com'},\n",
    "            \"Andrea Lopez\": {'email': 'andrea@gmail.com'}\n",
    "        }\n",
    "\n",
    "    def ver_clientes(self): #Método que permite ver la lista de clientes registrados\n",
    "        print(\"Lista de clientes registrados:\")\n",
    "        for nombre, info_cliente in self.clientes.items(): #Itera sobre el diccionario de clientes, mostrando nombre y dirección de correo\n",
    "            print(f\"Nombre: {nombre}, Email: {info_cliente['email']}\")\n",
    "\n",
    "tienda = TiendaOnline() # Crea una instancia de la clase TiendaOnline\n",
    "tienda.ver_clientes() # Llama al método ver_clientes para mostrar la lista de clientes\n"
   ]
  },
  {
   "cell_type": "markdown",
   "metadata": {},
   "source": [
    "12. registrar_compra(self, nombre_cliente, carrito): Registra una compra\n",
    "para un cliente, actualiza las ventas totales y agrega la compra al historial del\n",
    "cliente. Debe recibir el nombre del cliente y el carrito de compras como\n",
    "parámetros.\n",
    "-Busca al cliente en el diccionario de clientes.\n",
    "-Si el cliente no esta en el diccionario de clientes, muestra que no se\n",
    "puede realizar la acción por que el cliente no está en el diccionario.\n",
    "-Calcula el total de la compra y registra la compra, incluyendo los\n",
    "productos y el total.Ejemplo:\n",
    "carrito_cliente1 = {\"Camisa\": {\"precio\": 20,\n",
    "\"cantidad\": 3}}\n",
    "tienda.registrar_compra(\"Cliente1\", carrito_cliente1)"
   ]
  },
  {
   "cell_type": "code",
   "execution_count": 16,
   "metadata": {},
   "outputs": [
    {
     "name": "stdout",
     "output_type": "stream",
     "text": [
      "Compra registrada para 'Maria Garcia'. Total de la compra: €60.0\n"
     ]
    }
   ],
   "source": [
    "class TiendaOnline:\n",
    "    def __init__(self):\n",
    "        self.inventario = []  # Lista de productos en el inventario\n",
    "        self.clientes = {     # Diccionario de clientes\n",
    "            \"Maria Garcia\": {'email': 'maria@gmail.com'},\n",
    "            \"Andrea Lopez\": {'email': 'andrea@gmail.com'}\n",
    "        }\n",
    "        self.ventas_totales = 0.0  # Registro de las ventas totales\n",
    "\n",
    "    def registrar_compra(self, nombre_cliente, carrito): #método registra una compra para un cliente con 2 parámetros\n",
    "        \n",
    "        if nombre_cliente not in self.clientes: # Verifica si el cliente está en el diccionario de clientes\n",
    "            print(f\"No se puede registrar la compra. El cliente '{nombre_cliente}' no está registrado en la tienda.\")\n",
    "            return\n",
    "        \n",
    "        #Calcula el total de la compra sumando el precio de cada producto en el carrito multiplicado por su cantidad\n",
    "        total_compra = 0.0\n",
    "        for producto, detalles in carrito.items():\n",
    "            precio_unitario = detalles['precio']\n",
    "            cantidad = detalles['cantidad']\n",
    "            total_compra += precio_unitario * cantidad\n",
    "        \n",
    "        # Actualiza las ventas totales sumando el total de la compra\n",
    "        self.ventas_totales += total_compra\n",
    "        \n",
    "        # Agrega la compra al historial del cliente en el diccionario de clientes\n",
    "        if 'compras' not in self.clientes[nombre_cliente]: # si el historial de compras del cliente no existe, lo crea como una lista vacía\n",
    "            self.clientes[nombre_cliente]['compras'] = []\n",
    "            self.clientes[nombre_cliente]['compras'].append({\n",
    "            'carrito': carrito,\n",
    "            'total': total_compra\n",
    "        }) #agrega la compra al historial\n",
    "        \n",
    "        print(f\"Compra registrada para '{nombre_cliente}'. Total de la compra: €{total_compra}\")\n",
    "\n",
    "tienda = TiendaOnline()\n",
    "carrito_maria = {\"Camisa\": {\"precio\": 20, \"cantidad\": 3}} #define un diccionario carrito_maria\n",
    "tienda.registrar_compra(\"Maria Garcia\", carrito_maria) #llama al método para registrar la compra de María\n",
    "\n"
   ]
  },
  {
   "cell_type": "markdown",
   "metadata": {},
   "source": [
    "13. ver_compras_cliente(self, nombre_cliente): Muestra el historial de\n",
    "compras de un cliente. Debe recibir el nombre del cliente como parámetro.\n",
    "-Busca al cliente en el diccionario de clientes.\n",
    "-Muestra las compras realizadas por el cliente, incluyendo detalles de\n",
    "productos y totales."
   ]
  },
  {
   "cell_type": "code",
   "execution_count": 17,
   "metadata": {},
   "outputs": [
    {
     "name": "stdout",
     "output_type": "stream",
     "text": [
      "Historial de compras para el cliente 'Maria'\n",
      "Productos comprados:\n",
      "Nombre: pantalon, Precio: €30, Cantidad: 1\n",
      "Total de la compra: €30\n"
     ]
    }
   ],
   "source": [
    "class TiendaOnline: #define una clase con 3 atributos\n",
    "    def __init__(self):\n",
    "        self.inventario = [ \n",
    "            {'nombre': 'camisa', 'precio': 20, 'cantidad': 10},\n",
    "            {'nombre': 'pantalon', 'precio': 30, 'cantidad': 8},\n",
    "            {'nombre': 'zapatos', 'precio': 50, 'cantidad': 20}\n",
    "        ] \n",
    "        self.clientes = {     # Diccionario de clientes\n",
    "            \"Maria\": {'email': 'maria@gmail.com', 'compras': [{'nombre': 'pantalon', 'precio': 30, 'cantidad': 1}]},  # Historial de compras para el cliente Maria\n",
    "         }\n",
    "        self.ventas_totales = 0\n",
    "\n",
    "    def ver_compras_cliente(self, nombre_cliente): #Este método recibe el nombre_cliente como argumento\n",
    "        if nombre_cliente in self.clientes:\n",
    "            print(f\"Historial de compras para el cliente '{nombre_cliente}'\") #muestra su historial de compras\n",
    "            historial_compras = self.clientes[nombre_cliente]['compras'] #Verifica si el nombre del cliente está en el diccionario de clientes\n",
    "            if historial_compras:  # Verifica si el historial de compras no está vacío\n",
    "                for compra in historial_compras: #Itera sobre cada compra en el historial de compras\n",
    "                    print(\"Productos comprados:\") #imprime los detalles de los productos comprados como diccionario\n",
    "                    print(f\"Nombre: {compra['nombre']}, Precio: €{compra['precio']}, Cantidad: {compra['cantidad']}\")\n",
    "                    total_compra = compra['precio'] * compra['cantidad'] #variable que representa el monto total gastado (precios x cantidad)\n",
    "                    print(f\"Total de la compra: €{total_compra}\")\n",
    "            else: #Si el historial de compras está vacío, imprime un mensaje indicando que el cliente no ha realizado compras\n",
    "                print(\"El cliente no ha realizado compras.\")\n",
    "        else:\n",
    "            print(f\"No se encontró al cliente '{nombre_cliente}' en el registro.\")\n",
    "\n",
    "tienda = TiendaOnline() #crea una instancia(tienda) de la clase TiendaOnline\n",
    "tienda.ver_compras_cliente(\"Maria\") #llama al método ver_compras_cliente de la instancia tienda\n"
   ]
  },
  {
   "cell_type": "markdown",
   "metadata": {},
   "source": [
    "14. calcular_ventas_totales(self): Muestra las ventas totales de la tienda.\n",
    "-Suma los totales de todas las compras realizadas y muestra el total de ventas totales en la tienda."
   ]
  },
  {
   "cell_type": "markdown",
   "metadata": {},
   "source": [
    "HE HECHO 2 EJEMPLOS DE EJERCICIOS VENTA TOTAL DE LA TIENDA SIN CLIENTES Y AGREGANDO CLIENTES CON HISTORIAL DE COMPRA"
   ]
  },
  {
   "cell_type": "code",
   "execution_count": 19,
   "metadata": {},
   "outputs": [
    {
     "name": "stdout",
     "output_type": "stream",
     "text": [
      "Ventas totales de la tienda: €3470\n"
     ]
    }
   ],
   "source": [
    "#1º EJEMPLO\n",
    "class TiendaOnline: #define clase con 3 atributos\n",
    "    def __init__(self):\n",
    "        self.inventario = [] #atributo lista vacía de productos\n",
    "        self.clientes = {} #atributo diccionario vacío de clientes\n",
    "        self.ventas_totales = 0 #atributo que almacena el monto total\n",
    "\n",
    "    def calcular_ventas_totales(self): #Este método calcula el monto total de las ventas de la tienda sumando los totales de todas las compras\n",
    "        total_ventas = 3470 #variable\n",
    "        for cliente, detalles in self.clientes.items(): #itera sobre el diccionario de clientes\n",
    "            for compra in detalles['compras']: #recorre su historial de compras\n",
    "                total_ventas += compra['total'] #Suma el total de cada compra al total_ventas\n",
    "        self.ventas_totales = total_ventas #actualiza el atributo ventas_totales con el valor calculado\n",
    "        print(f\"Ventas totales de la tienda: €{total_ventas}\")\n",
    "\n",
    "tienda = TiendaOnline() #crea una instancia de la clase\n",
    "tienda.calcular_ventas_totales() #Llama al método calcular_ventas_totales() de la instancia tienda para calcular y mostrar el monto total de las ventas\n"
   ]
  },
  {
   "cell_type": "code",
   "execution_count": 20,
   "metadata": {},
   "outputs": [
    {
     "name": "stdout",
     "output_type": "stream",
     "text": [
      "Ventas totales de la tienda: €120\n"
     ]
    }
   ],
   "source": [
    "#2º EJEMPLO\n",
    "class TiendaOnline:\n",
    "    def __init__(self):\n",
    "        self.inventario = [] \n",
    "        self.clientes = {}\n",
    "        self.ventas_totales = 0\n",
    "\n",
    "    def calcular_ventas_totales(self):\n",
    "        total_ventas = 0\n",
    "        for cliente, detalles in self.clientes.items():\n",
    "            if 'compras' in detalles:  #Verifica si el cliente tiene historial de compras\n",
    "                for compra in detalles['compras']:\n",
    "                    total_ventas += compra['total']\n",
    "        self.ventas_totales = total_ventas\n",
    "        print(f\"Ventas totales de la tienda: €{total_ventas}\")\n",
    "\n",
    "tienda = TiendaOnline() #Crea una instancia de la tienda\n",
    "\n",
    "#Agrega clientes con historial de compras\n",
    "tienda.clientes[\"Maria\"] = {'email': 'maria@gmail.com', 'compras': [{'nombre': 'Camisa', 'precio': 20, 'cantidad': 2, 'total': 40}, {'nombre': 'Pantalón', 'precio': 30, 'cantidad': 1, 'total': 30}]}\n",
    "tienda.clientes[\"Juan\"] = {'email': 'juan@gmail.com', 'compras': [{'nombre': 'Zapatos', 'precio': 50, 'cantidad': 1, 'total': 50}]}\n",
    "\n",
    "tienda.calcular_ventas_totales() #Calcula las ventas totales\n"
   ]
  },
  {
   "cell_type": "markdown",
   "metadata": {},
   "source": [
    "Instrucciones Adicionales:\n",
    "Debes crear instancias de la clase TiendaOnline y probar cada uno de los métodos\n",
    "para demostrar que funcionan correctamente."
   ]
  }
 ],
 "metadata": {
  "kernelspec": {
   "display_name": "base",
   "language": "python",
   "name": "python3"
  },
  "language_info": {
   "codemirror_mode": {
    "name": "ipython",
    "version": 3
   },
   "file_extension": ".py",
   "mimetype": "text/x-python",
   "name": "python",
   "nbconvert_exporter": "python",
   "pygments_lexer": "ipython3",
   "version": "3.9.7"
  }
 },
 "nbformat": 4,
 "nbformat_minor": 2
}
