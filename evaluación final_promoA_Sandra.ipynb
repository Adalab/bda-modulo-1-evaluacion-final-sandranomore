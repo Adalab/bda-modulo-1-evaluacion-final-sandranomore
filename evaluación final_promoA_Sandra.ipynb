{
 "cells": [
  {
   "cell_type": "markdown",
   "metadata": {},
   "source": [
    "\n",
    "Ejercicio\n",
    "A lo largo de esta evaluación tendrás que crear una clase llamada TiendaOnline que cumpla los siguientes requisitos:\n",
    "\n",
    "La clase TiendaOnline debe tener los siguientes atributos:\n",
    "\n",
    "1. inventario (lista de diccionarios): Un atributo para almacenar los productos\n",
    "en el inventario. Cada producto debe ser representado como un diccionario con las siguientes claves: 'nombre', 'precio', y 'cantidad'. Al principio deberá ser una lista vacía. \n",
    "\n",
    "Ejemplo de como debería ser:\n",
    "[{'nombre': 'Camisa', 'precio': 20, 'cantidad': 40},\n",
    "{'nombre': 'Pantalón', 'precio': 30, 'cantidad': 30}]"
   ]
  },
  {
   "cell_type": "code",
   "execution_count": 37,
   "metadata": {},
   "outputs": [
    {
     "name": "stdout",
     "output_type": "stream",
     "text": [
      "Inventario:\n",
      "Nombre: Camisa, Precio: €20, Cantidad: 40\n",
      "Nombre: Pantalón, Precio: €40, Cantidad: 30\n",
      "Nombre: Abrigo, Precio: €70, Cantidad: 50\n"
     ]
    }
   ],
   "source": [
    "class TiendaOnline:\n",
    "    def __init__(self):\n",
    "        self.inventario = []  # Inicio el inventario como una lista vacía\n",
    "\n",
    "    def agregar_producto(self, nombre, precio, cantidad):\n",
    "        \n",
    "        for producto in self.inventario:\n",
    "            if producto['nombre'] == nombre: #str\n",
    "                producto['precio'] = precio #float\n",
    "                producto['cantidad'] += cantidad #int\n",
    "                return  # Sale de la función si encuentra y actualiza el producto existente.\n",
    "        self.inventario.append({'nombre': nombre, 'precio': precio, 'cantidad': cantidad}) # Si el producto no existe, lo agrega al inventario\n",
    "        \n",
    "    def mostrar_inventario(self):\n",
    "        \n",
    "        print(\"Inventario:\")\n",
    "        for producto in self.inventario:\n",
    "            print(f\"Nombre: {producto['nombre']}, Precio: €{producto['precio']}, Cantidad: {producto['cantidad']}\")\n",
    "\n",
    "tienda = TiendaOnline()\n",
    "tienda.agregar_producto(\"Camisa\", 20, 40)\n",
    "tienda.agregar_producto(\"Pantalón\", 40, 30)\n",
    "tienda.agregar_producto(\"Abrigo\", 70, 50)\n",
    "tienda.mostrar_inventario()\n",
    "    "
   ]
  },
  {
   "cell_type": "markdown",
   "metadata": {},
   "source": [
    "2. clientes (diccionario): Un atributo para llevar un registro de los clientes de la tienda. Cada cliente debe ser representado como un diccionario con las\n",
    "siguientes claves: 'nombre' y 'email'. Al inicio deberá ser un diccionario\n",
    "vacío. Además, cada cliente debe tener un historial de compras. \n",
    "Deberá parecerse a:\n",
    "{'Cliente1': {'email': 'cliente1@email.com', 'compras': []},\n",
    "'Cliente2': {'email': 'cliente2@email.com', 'compras': []}}"
   ]
  },
  {
   "cell_type": "code",
   "execution_count": 38,
   "metadata": {},
   "outputs": [
    {
     "name": "stdout",
     "output_type": "stream",
     "text": [
      "No hay clientes registrados en la tienda.\n"
     ]
    }
   ],
   "source": [
    "class TiendaOnline:\n",
    "    def __init__(self):\n",
    "        self.inventario = []  # Lista de productos en el inventario\n",
    "        self.clientes = {}    # Diccionario vacío de clientes\n",
    "\n",
    "    def mostrar_clientes(self): \n",
    "        if self.clientes:\n",
    "            print(\"Clientes:\")\n",
    "            for nombre, datos in self.clientes.items():\n",
    "                print(f\"Nombre: {nombre}, Email: {datos['email']}, Historial de compras: {datos.get('historial_compras', [])}\")\n",
    "        else:\n",
    "            print(\"No hay clientes registrados en la tienda.\")\n",
    "\n",
    "\n",
    "tienda = TiendaOnline() #tienda es una instancia de la clase TiendaOnline\n",
    "tienda.mostrar_clientes()\n"
   ]
  },
  {
   "cell_type": "code",
   "execution_count": 39,
   "metadata": {},
   "outputs": [
    {
     "name": "stdout",
     "output_type": "stream",
     "text": [
      "Nuevo cliente agregado: Sandra Moreno (Sandra@gmail.com)\n",
      "Nuevo cliente agregado: Juan Perez (Juan@gmail.com)\n",
      "Clientes:\n",
      "Nombre: Sandra Moreno, Email: Sandra@gmail.com, Historial de compras: [{'producto': 'Camisa', 'precio': 20}, {'producto': 'Pantalón', 'precio': 30}]\n",
      "Nombre: Juan Perez, Email: Juan@gmail.com, Historial de compras: []\n"
     ]
    }
   ],
   "source": [
    "class TiendaOnline:\n",
    "    def __init__(self):\n",
    "        self.inventario = []  # Lista de productos en el inventario\n",
    "        self.clientes = {}    # Diccionario de clientes vacio\n",
    "\n",
    "    def agregar_cliente(self, nombre, email, historial_compras=None): #para permitir que el historial de compras sea opcional(none) al agregar un nuevo cliente. Si no se proporciona ningún historial de compras al llamar al método agregar_cliente, se inicializará como una lista vacía automáticamente.\n",
    "        if nombre not in self.clientes:\n",
    "            if historial_compras is None:\n",
    "                historial_compras = []\n",
    "            self.clientes[nombre] = {'email': email, 'historial_compras': historial_compras}\n",
    "            print(f\"Nuevo cliente agregado: {nombre} ({email})\")\n",
    "        else:\n",
    "            print(f\"El cliente {nombre} ya está registrado en la tienda.\")\n",
    "\n",
    "    def mostrar_clientes(self):\n",
    "        print(\"Clientes:\")\n",
    "        for nombre, datos in self.clientes.items():\n",
    "            print(f\"Nombre: {nombre}, Email: {datos['email']}, Historial de compras: {datos['historial_compras']}\")\n",
    "\n",
    "tienda = TiendaOnline() #tienda es una instancia de la clase TiendaOnline\n",
    "tienda.agregar_cliente(\"Sandra Moreno\", \"Sandra@gmail.com\", [{\"producto\": \"Camisa\", \"precio\": 20}, {\"producto\": \"Pantalón\", \"precio\": 30}])\n",
    "tienda.agregar_cliente(\"Juan Perez\", \"Juan@gmail.com\")\n",
    "tienda.mostrar_clientes()\n"
   ]
  },
  {
   "cell_type": "markdown",
   "metadata": {},
   "source": [
    "3. ventas_totales (float): Un atributo para llevar un registro de las ventas\n",
    "totales de la tienda. Inicializalo con valor 0."
   ]
  },
  {
   "cell_type": "code",
   "execution_count": 40,
   "metadata": {},
   "outputs": [
    {
     "name": "stdout",
     "output_type": "stream",
     "text": [
      "Ventas totales: 0.0\n"
     ]
    }
   ],
   "source": [
    "class TiendaOnline:\n",
    "    def __init__(self):\n",
    "        self.inventario = []       # Lista de productos en el inventario\n",
    "        self.clientes = {}         # Diccionario de clientes\n",
    "        self.ventas_totales = 0.0  # Registro de las ventas totales\n",
    "tienda = TiendaOnline() #tienda es una instancia de la clase TiendaOnline\n",
    "print(\"Ventas totales:\", tienda.ventas_totales)  # Mostrar ventas totales inicializadas en 0"
   ]
  },
  {
   "cell_type": "markdown",
   "metadata": {},
   "source": [
    "La clase TiendaOnline debe tener los siguientes métodos:\n",
    "\n",
    "1. agregar_producto(self, nombre, precio, cantidad): Este método agrega un producto al inventario o actualiza su cantidad si ya existe. Debe recibir el nombre, precio y cantidad del producto como parámetros.\n",
    "-Itera a través del inventario y compara los nombres de los productos con el nombre proporcionado.\n",
    "-Si el producto ya existe, actualiza la cantidad.\n",
    "-Si no existe, agrega un nuevo producto al inventario."
   ]
  },
  {
   "cell_type": "code",
   "execution_count": 41,
   "metadata": {},
   "outputs": [
    {
     "name": "stdout",
     "output_type": "stream",
     "text": [
      "Se agregó un nuevo producto: Camisa\n",
      "Se agregó un nuevo producto: Pantalón\n",
      "Se agregó un nuevo producto: Abrigo\n"
     ]
    }
   ],
   "source": [
    "class TiendaOnline:\n",
    "    def __init__(self):\n",
    "        self.inventario = []       # Lista de productos en el inventario\n",
    "        self.clientes = {}         # Diccionario de clientes\n",
    "        self.ventas_totales = 0.0  # Registro de las ventas totales\n",
    "\n",
    "    def agregar_producto(self, nombre, precio, cantidad):\n",
    "       \n",
    "        encontrado = False\n",
    "        for producto in self.inventario:\n",
    "            if producto['nombre'] == nombre:\n",
    "                producto['cantidad'] += cantidad\n",
    "                print(f\"Se actualizó la cantidad del producto {nombre}\")\n",
    "                encontrado = True\n",
    "                break\n",
    "\n",
    "        if not encontrado:\n",
    "            nuevo_producto = {'nombre': nombre, 'precio': precio, 'cantidad': cantidad}\n",
    "            self.inventario.append(nuevo_producto)\n",
    "            print(f\"Se agregó un nuevo producto: {nombre}\")\n",
    "\n",
    "tienda = TiendaOnline() #tienda es una instancia de la clase TiendaOnline\n",
    "tienda.agregar_producto(\"Camisa\", 20, 3)  # Agregar un nuevo producto\n",
    "tienda.agregar_producto(\"Pantalón\", 30, 4)  # Actualizar la cantidad de un producto existente\n",
    "tienda.agregar_producto(\"Abrigo\", 50, 1)  # Actualizar la cantidad de un producto existente"
   ]
  },
  {
   "cell_type": "markdown",
   "metadata": {},
   "source": [
    "2.ver_inventario(self): Muestra el inventario de productos con sus detalles.\n",
    "-Utiliza un bucle for para recorrer el inventario.\n",
    "-Imprime los detalles (nombre, precio, cantidad) de cada producto.\n",
    "-Debería verse:\n",
    "Nombre: Camisa, Precio: $20, Cantidad: 50\n",
    "Nombre: Pantalón, Precio: $30, Cantidad: 30\n",
    "Nombre: Zapatos, Precio: $50, Cantidad: 40"
   ]
  },
  {
   "cell_type": "code",
   "execution_count": 42,
   "metadata": {},
   "outputs": [
    {
     "name": "stdout",
     "output_type": "stream",
     "text": [
      "Inventario:\n",
      "Nombre: Camisa, Precio: €20, Cantidad: 50\n",
      "Nombre: Pantalon, Precio: €30, Cantidad: 30\n",
      "Nombre: Zapatos, Precio: €50, Cantidad: 40\n"
     ]
    }
   ],
   "source": [
    "class TiendaOnline:\n",
    "    def __init__(self):\n",
    "        self.inventario = [ \n",
    "            {'nombre': 'Camisa', 'precio': 20, 'cantidad': 50},\n",
    "            {'nombre': 'Pantalon', 'precio': 30, 'cantidad': 30},\n",
    "            {'nombre': 'Zapatos', 'precio': 50, 'cantidad': 40}\n",
    "        ]      # Lista de productos en el inventario\n",
    "        self.clientes = {}         # Diccionario de clientes\n",
    "        self.ventas_totales = 0.0  # Registro de las ventas totales\n",
    "\n",
    "    def ver_inventario(self):\n",
    "        print(\"Inventario:\")\n",
    "        for producto in self.inventario:\n",
    "         print(f\"Nombre: {producto['nombre']}, Precio: €{producto['precio']}, Cantidad: {producto['cantidad']}\")\n",
    "\n",
    "tienda = TiendaOnline() \n",
    "tienda.ver_inventario()\n"
   ]
  },
  {
   "cell_type": "markdown",
   "metadata": {},
   "source": [
    "3. buscar_producto(self, nombre): Busca un producto en el inventario por\n",
    "nombre y muestra sus detalles si se encuentra. Debe recibir el nombre del producto como parámetro.\n",
    "-Utiliza un bucle for para recorrer el inventario.\n",
    "-Compara los nombres de los productos con el nombre proporcionado.\n",
    "-Si se encuentra el producto, imprime sus detalles.\n",
    "Debe mostrar:\n",
    "Nombre: Camisa, Precio: $20, Cantidad: 40"
   ]
  },
  {
   "cell_type": "code",
   "execution_count": 43,
   "metadata": {},
   "outputs": [
    {
     "name": "stdout",
     "output_type": "stream",
     "text": [
      "Nombre: Camisa, Precio: €20, Cantidad: 50\n",
      "Nombre: Zapatos, Precio: €50, Cantidad: 40\n",
      "No se encontró ningún producto con el nombre Sombrero\n"
     ]
    }
   ],
   "source": [
    "class TiendaOnline:\n",
    "    def __init__(self):\n",
    "        self.inventario = [ \n",
    "            {'nombre': 'Camisa', 'precio': 20, 'cantidad': 50},\n",
    "            {'nombre': 'Pantalón', 'precio': 30, 'cantidad': 30},\n",
    "            {'nombre': 'Zapatos', 'precio': 50, 'cantidad': 40}\n",
    "        ]                          # Lista de productos en el inventario\n",
    "        self.clientes = {}         # Diccionario de clientes\n",
    "        self.ventas_totales = 0.0  # Registro de las ventas totales\n",
    "\n",
    "    def buscar_producto(self, nombre):\n",
    "        encontrado = False\n",
    "        for producto in self.inventario:\n",
    "            if producto['nombre'] == nombre:\n",
    "                print(f\"Nombre: {producto['nombre']}, Precio: €{producto['precio']}, Cantidad: {producto['cantidad']}\")\n",
    "                encontrado = True\n",
    "                break\n",
    "        \n",
    "        if not encontrado:\n",
    "            print(f\"No se encontró ningún producto con el nombre {nombre}\")\n",
    "\n",
    "tienda = TiendaOnline()\n",
    "\n",
    "tienda.buscar_producto(\"Camisa\")\n",
    "tienda.buscar_producto(\"Zapatos\")\n",
    "tienda.buscar_producto(\"Sombrero\")"
   ]
  },
  {
   "cell_type": "markdown",
   "metadata": {},
   "source": [
    "4. actualizar_stock(self, nombre, cantidad): Actualiza el stock de un\n",
    "producto en el inventario. Debe recibir el nombre del producto y la cantidad a\n",
    "agregar o quitar como parámetros.\n",
    "-Utiliza un bucle for para recorrer el inventario.\n",
    "-Busca el producto por nombre.\n",
    "-Actualiza la cantidad según la entrada del usuario.\n",
    "-Si el producto no esta en el inventario muestra un mensaje indicándolo."
   ]
  },
  {
   "cell_type": "code",
   "execution_count": 44,
   "metadata": {},
   "outputs": [
    {
     "name": "stdout",
     "output_type": "stream",
     "text": [
      "Se actualizó el stock del producto Camisa en el inventario. Nuevo stock: 60\n",
      "Se actualizó el stock del producto Pantalón en el inventario. Nuevo stock: 45\n",
      "Se actualizó el stock del producto Zapatos en el inventario. Nuevo stock: 60\n"
     ]
    }
   ],
   "source": [
    "class TiendaOnline:\n",
    "    def __init__(self):\n",
    "        self.inventario = [ \n",
    "            {'nombre': 'Camisa', 'precio': 20, 'cantidad': 50},\n",
    "            {'nombre': 'Pantalón', 'precio': 30, 'cantidad': 30},\n",
    "            {'nombre': 'Zapatos', 'precio': 50, 'cantidad': 40}\n",
    "        ]          # Lista de productos en el inventario\n",
    "        self.clientes = {}         # Diccionario de clientes\n",
    "        self.ventas_totales = 0.0  # Registro de las ventas totales\n",
    "\n",
    "    def actualizar_stock(self, nombre, cantidad):\n",
    "        \n",
    "        encontrado = False\n",
    "        for producto in self.inventario:\n",
    "            if producto['nombre'] == nombre:\n",
    "                producto['cantidad'] += cantidad\n",
    "                print(f\"Se actualizó el stock del producto {nombre} en el inventario. Nuevo stock: {producto['cantidad']}\")\n",
    "                encontrado = True\n",
    "                break\n",
    "        \n",
    "        if not encontrado:\n",
    "            print(f\"No se encontró ningún producto con el nombre {nombre}\")\n",
    "\n",
    "tienda = TiendaOnline()\n",
    "\n",
    "tienda.actualizar_stock(\"Camisa\", 10)\n",
    "tienda.actualizar_stock(\"Pantalón\", 15)\n",
    "tienda.actualizar_stock(\"Zapatos\", 20)\n"
   ]
  },
  {
   "cell_type": "markdown",
   "metadata": {},
   "source": [
    "5. eliminar_producto(self, nombre): Elimina un producto del inventario por\n",
    "nombre. Debe recibir el nombre del producto como parámetro.\n",
    "-Utiliza un bucle for para recorrer el inventario.\n",
    "-Busca el producto por nombre.\n",
    "-Elimina el producto del inventario si existe.\n",
    "-Si el producto no esta en el inventario muestra un mensaje indicándolo."
   ]
  },
  {
   "cell_type": "code",
   "execution_count": 45,
   "metadata": {},
   "outputs": [
    {
     "name": "stdout",
     "output_type": "stream",
     "text": [
      "El producto 'Camisa' ha sido eliminado del inventario.\n",
      "No se encontró el producto 'Sombrero' en el inventario.\n"
     ]
    }
   ],
   "source": [
    "class TiendaOnline:\n",
    "    def __init__(self):\n",
    "        self.inventario = [ \n",
    "            {'nombre': 'Camisa', 'precio': 20, 'cantidad': 5},\n",
    "            {'nombre': 'Pantalón', 'precio': 30, 'cantidad': 3},\n",
    "            {'nombre': 'Zapatos', 'precio': 50, 'cantidad': 4}\n",
    "        ]          # Lista de productos en el inventario\n",
    "        self.clientes = {}         # Diccionario de clientes\n",
    "        self.ventas_totales = 0.0  # Registro de las ventas totales\n",
    "\n",
    "    def eliminar_producto(self, nombre):\n",
    "        \n",
    "        producto_a_eliminar = None\n",
    "        for producto in self.inventario:\n",
    "            if producto['nombre'] == nombre:\n",
    "                producto_a_eliminar = producto\n",
    "                break\n",
    "        \n",
    "        if producto_a_eliminar:\n",
    "            self.inventario.remove(producto_a_eliminar)\n",
    "            print(f\"El producto '{nombre}' ha sido eliminado del inventario.\")\n",
    "        else:\n",
    "            print(f\"No se encontró el producto '{nombre}' en el inventario.\")\n",
    "\n",
    "\n",
    "tienda = TiendaOnline() # Ejemplo de uso de la clase y el método eliminar_producto\n",
    "tienda.eliminar_producto('Camisa') # Intentamos eliminar un producto existente\n",
    "tienda.eliminar_producto('Sombrero') # Intentamos eliminar un producto que no existe\n"
   ]
  },
  {
   "cell_type": "markdown",
   "metadata": {},
   "source": [
    "6. calcular_valor_inventario(self): Calcula y muestra el valor total del\n",
    "inventario.\n",
    "-Utiliza un bucle for para calcular el valor total del inventario.\n",
    "-Itera a través del inventario y suma el valor de cada producto (precio x\n",
    "cantidad). Es decir, calcula el valor total del inventario.\n",
    "\n",
    "Ejemplo:\n",
    "#si tenemos 5 camisas que valen 5 euros\n",
    "#y 10 calcetines que valen 1 euro\n",
    "#este método te tiene que devolver: 35 euros\n",
    "\n",
    "valor_camisas = 5 * 5\n",
    "valor_calcetines = 10 * 1\n",
    "valor_camisas + valor_calcetines = 35"
   ]
  },
  {
   "cell_type": "code",
   "execution_count": 46,
   "metadata": {},
   "outputs": [
    {
     "name": "stdout",
     "output_type": "stream",
     "text": [
      "El valor total del inventario es: €3900\n"
     ]
    }
   ],
   "source": [
    "class TiendaOnline:\n",
    "    def __init__(self):\n",
    "        self.inventario = [ \n",
    "            {'nombre': 'Camisa', 'precio': 20, 'cantidad': 50},\n",
    "            {'nombre': 'Pantalón', 'precio': 30, 'cantidad': 30},\n",
    "            {'nombre': 'Zapatos', 'precio': 50, 'cantidad': 40}\n",
    "        ]          # Lista de productos en el inventario\n",
    "        self.clientes = {}         # Diccionario de clientes\n",
    "        self.ventas_totales = 0.0  # Registro de las ventas totales\n",
    "\n",
    "    def calcular_valor_inventario(self):\n",
    "        valor_total = 0\n",
    "        for producto in self.inventario:\n",
    "            valor_total += producto['precio'] * producto['cantidad']\n",
    "        print(f\"El valor total del inventario es: €{valor_total}\")\n",
    "\n",
    "tienda = TiendaOnline()\n",
    "tienda.calcular_valor_inventario() #Calcular el valor total"
   ]
  },
  {
   "cell_type": "markdown",
   "metadata": {},
   "source": [
    "7. buscar_producto_regex(self, patron): Busca productos en el inventario\n",
    "que coincidan con un patrón de búsqueda en formato regex en el nombre y\n",
    "muestra los resultados. Debe recibir el patrón como parámetro.\n",
    "-Utiliza un bucle for para recorrer el inventario.\n",
    "-Utiliza la función más apropiada para buscar coincidencias con el patrón\n",
    "de expresión regular.\n",
    "-Agrega los productos encontrados a una lista y luego imprime sus\n",
    "detalles."
   ]
  },
  {
   "cell_type": "code",
   "execution_count": 47,
   "metadata": {},
   "outputs": [
    {
     "name": "stdout",
     "output_type": "stream",
     "text": [
      "Productos encontrados:\n",
      "Nombre: Zapatos, Precio: €50, Cantidad: 40\n",
      "Productos encontrados:\n",
      "Nombre: Camisa, Precio: €20, Cantidad: 50\n"
     ]
    }
   ],
   "source": [
    "import re\n",
    "\n",
    "class TiendaOnline:\n",
    "    def __init__(self):\n",
    "        self.inventario = [ \n",
    "            {'nombre': 'Camisa', 'precio': 20, 'cantidad': 50},\n",
    "            {'nombre': 'Pantalón', 'precio': 30, 'cantidad': 30},\n",
    "            {'nombre': 'Zapatos', 'precio': 50, 'cantidad': 40}\n",
    "        ] \n",
    "        self.clientes = {}         # Diccionario de clientes\n",
    "        self.ventas_totales = 0.0  # Registro de las ventas totales\n",
    "\n",
    "    def buscar_producto_regex(self, patron):\n",
    "        productos_encontrados = []\n",
    "        for producto in self.inventario:\n",
    "            if re.search(patron, producto['nombre'], re.IGNORECASE):\n",
    "                productos_encontrados.append(producto)\n",
    "        \n",
    "        if productos_encontrados:\n",
    "            print(\"Productos encontrados:\")\n",
    "            for producto in productos_encontrados:\n",
    "                print(f\"Nombre: {producto['nombre']}, Precio: €{producto['precio']}, Cantidad: {producto['cantidad']}\")\n",
    "        else:\n",
    "            print(\"No se encontraron productos que coincidan con el patrón de búsqueda.\")\n",
    "\n",
    "tienda = TiendaOnline()\n",
    "tienda.buscar_producto_regex(\"Zapatos\")\n",
    "tienda.buscar_producto_regex(\"Camisa\")"
   ]
  },
  {
   "cell_type": "markdown",
   "metadata": {},
   "source": [
    "8. realizar_compra(self): Permite a un cliente realizar una compra\n",
    "seleccionando productos del inventario. Debe interactuar con el cliente para\n",
    "seleccionar productos y calcular el costo total de la compra.\n",
    "-Utiliza un bucle while para permitir al cliente realizar múltiples compras.\n",
    "-Muestra el inventario y solicita al cliente ingresar el nombre del producto\n",
    "que desea comprar.\n",
    "-Registra los productos seleccionados en un carrito y actualiza el\n",
    "inventario.\n",
    "-Calcula el costo total de la compra."
   ]
  },
  {
   "cell_type": "code",
   "execution_count": 48,
   "metadata": {},
   "outputs": [
    {
     "name": "stdout",
     "output_type": "stream",
     "text": [
      "Compra realizada: 'pantalon' x 1 por un total de €30\n",
      "¡Gracias por su compra!\n"
     ]
    }
   ],
   "source": [
    "class TiendaOnline:\n",
    "    def __init__(self):\n",
    "        self.inventario = [ \n",
    "            {'nombre': 'camisa', 'precio': 20, 'cantidad': 10},\n",
    "            {'nombre': 'pantalon', 'precio': 30, 'cantidad': 8},\n",
    "            {'nombre': 'zapatos', 'precio': 50, 'cantidad': 20}\n",
    "        ] \n",
    "\n",
    "    def realizar_compra(self):\n",
    "        while True:\n",
    "            nombre_producto = input(\"Ingrese el nombre del producto que desea comprar (o 'fin' para salir): \")\n",
    "            if nombre_producto.lower() == 'fin':\n",
    "                print(\"¡Gracias por su compra!\")\n",
    "                break\n",
    "            else:\n",
    "                producto_encontrado = None\n",
    "                for producto in self.inventario:\n",
    "                    if producto['nombre'].lower() == nombre_producto.lower():\n",
    "                        producto_encontrado = producto\n",
    "                        break\n",
    "                if producto_encontrado:\n",
    "                    cantidad = int(input(f\"Ingrese la cantidad de '{producto_encontrado['nombre']}' que desea comprar: \"))\n",
    "                    if cantidad <= producto_encontrado['cantidad']:\n",
    "                        producto_encontrado['cantidad'] -= cantidad\n",
    "                        costo_total = producto_encontrado['precio'] * cantidad\n",
    "                        print(f\"Compra realizada: '{producto_encontrado['nombre']}' x {cantidad} por un total de €{costo_total}\")\n",
    "                    else:\n",
    "                        print(\"No hay suficiente stock disponible.\")\n",
    "                else:\n",
    "                    print(\"Producto no encontrado en el inventario.\")\n",
    "\n",
    "    def ver_inventario(self):\n",
    "        for producto in self.inventario:\n",
    "            print(f\"Nombre: {producto['nombre']}, Precio: €{producto['precio']}, Cantidad: {producto['cantidad']}\")\n",
    "\n",
    "tienda = TiendaOnline()\n",
    "tienda.realizar_compra()"
   ]
  },
  {
   "cell_type": "markdown",
   "metadata": {},
   "source": [
    "9. procesar_pago(self): Procesa el pago de una compra, calcula el cambio y\n",
    "muestra un mensaje de confirmación.\n",
    "-Utiliza un bloque try...except para manejar excepciones.\n",
    "-Solicita al cliente ingresar la cantidad total y la cantidad de pago usando\n",
    "un input.\n",
    "-Calcula el cambio y muestra un mensaje de pago exitoso o un error en\n",
    "caso de monto insuficiente."
   ]
  },
  {
   "cell_type": "code",
   "execution_count": 49,
   "metadata": {},
   "outputs": [
    {
     "name": "stdout",
     "output_type": "stream",
     "text": [
      "Error: Ingrese valores numéricos válidos para el monto total y el pago.\n"
     ]
    }
   ],
   "source": [
    "class TiendaOnline:\n",
    "    def __init__(self):\n",
    "        self.inventario = []\n",
    "\n",
    "    def procesar_pago(self):\n",
    "        try:\n",
    "            total = float(input(\"Ingrese el precio total de la compra: \"))\n",
    "            pago = float(input(\"Ingrese la cantidad de pagada: \"))\n",
    "\n",
    "            if pago >= total:\n",
    "                cambio = pago - total\n",
    "                print(f\"Pago realizado con exito. Su cambio es: €{cambio:.2f}\")\n",
    "            else:\n",
    "                print(\"Monto insuficiente. El pago no puede ser procesado.\")\n",
    "        except ValueError:\n",
    "            print(\"Error: Ingrese valores numéricos válidos para el monto total y el pago.\")\n",
    "\n",
    "tienda = TiendaOnline() #Crear una instancia de la clase TiendaOnline\n",
    "tienda.procesar_pago() #Llamar al método procesar_pago para realizar el pago y saber el cambio"
   ]
  },
  {
   "cell_type": "markdown",
   "metadata": {},
   "source": [
    "10. agregar_cliente(self, nombre, email): Agrega un nuevo cliente al registro\n",
    "de clientes. Debe recibir el nombre y el correo electrónico del cliente como\n",
    "parámetros.\n",
    "-Agrega un cliente al diccionario de clientes con su nombre y correo\n",
    "electrónico."
   ]
  },
  {
   "cell_type": "code",
   "execution_count": 50,
   "metadata": {},
   "outputs": [
    {
     "name": "stdout",
     "output_type": "stream",
     "text": [
      "Nuevo cliente agregado: Sandra Moreno (sandra@gmail.com)\n",
      "Nuevo cliente agregado: Juan Pérez (juan@gmail.com)\n",
      "Total de clientes: 4\n"
     ]
    }
   ],
   "source": [
    "class TiendaOnline:\n",
    "    def __init__(self):\n",
    "        self.inventario = []  # Lista de productos en el inventario\n",
    "        self.clientes = {     # Diccionario de clientes\n",
    "            \"Maria\": {'email': 'maria@gmail.com'},\n",
    "            \"Andrea\": {'email': 'andrea@gmail.com'}\n",
    "        }\n",
    "\n",
    "    def agregar_cliente(self, nombre, email):\n",
    "        \n",
    "        if nombre not in self.clientes:\n",
    "            self.clientes[nombre] = {'email': email}\n",
    "            print(f\"Nuevo cliente agregado: {nombre} ({email})\")\n",
    "        else:\n",
    "            print(f\"El cliente {nombre} ya está registrado en la tienda.\")\n",
    "\n",
    "    def total_clientes(self):\n",
    "        return len(self.clientes)\n",
    "    \n",
    "tienda = TiendaOnline()\n",
    "tienda.agregar_cliente(\"Sandra Moreno\", \"sandra@gmail.com\")\n",
    "tienda.agregar_cliente(\"Juan Pérez\", \"juan@gmail.com\")\n",
    "\n",
    "print(\"Total de clientes:\", tienda.total_clientes()) #Este código imprimirá el número total de clientes registrados en la tienda.\n"
   ]
  },
  {
   "cell_type": "markdown",
   "metadata": {},
   "source": [
    "11. ver_clientes(self): Muestra la lista de clientes registrados con sus nombres\n",
    "y correos electrónicos.\n",
    "-Utiliza un bucle for para recorrer la base de datos de clientes.\n",
    "-Imprime los detalles de cada cliente (nombre y correo electrónico)."
   ]
  },
  {
   "cell_type": "code",
   "execution_count": 51,
   "metadata": {},
   "outputs": [
    {
     "name": "stdout",
     "output_type": "stream",
     "text": [
      "Lista de clientes registrados:\n",
      "Nombre: Maria Garcia, Email: maria@gmail.com\n",
      "Nombre: Andrea Lopez, Email: andrea@gmail.com\n"
     ]
    }
   ],
   "source": [
    "class TiendaOnline:\n",
    "    def __init__(self):\n",
    "        self.inventario = []\n",
    "        self.clientes = {     # Diccionario de clientes\n",
    "            \"Maria Garcia\": {'email': 'maria@gmail.com'},\n",
    "            \"Andrea Lopez\": {'email': 'andrea@gmail.com'}\n",
    "        }\n",
    "\n",
    "    def ver_clientes(self):\n",
    "        print(\"Lista de clientes registrados:\")\n",
    "        for nombre, info_cliente in self.clientes.items():\n",
    "            print(f\"Nombre: {nombre}, Email: {info_cliente['email']}\")\n",
    "\n",
    "tienda = TiendaOnline() # Crear una instancia de la clase TiendaOnline\n",
    "tienda.ver_clientes() # Llamar al método ver_clientes para mostrar la lista de clientes"
   ]
  },
  {
   "cell_type": "markdown",
   "metadata": {},
   "source": [
    "12. registrar_compra(self, nombre_cliente, carrito): Registra una compra\n",
    "para un cliente, actualiza las ventas totales y agrega la compra al historial del\n",
    "cliente. Debe recibir el nombre del cliente y el carrito de compras como\n",
    "parámetros.\n",
    "-Busca al cliente en el diccionario de clientes.\n",
    "-Si el cliente no esta en el diccionario de clientes, muestra que no se\n",
    "puede realizar la acción por que el cliente no está en el diccionario.\n",
    "-Calcula el total de la compra y registra la compra, incluyendo los\n",
    "productos y el total.Ejemplo:\n",
    "carrito_cliente1 = {\"Camisa\": {\"precio\": 20,\n",
    "\"cantidad\": 3}}\n",
    "tienda.registrar_compra(\"Cliente1\", carrito_cliente1)"
   ]
  },
  {
   "cell_type": "code",
   "execution_count": 52,
   "metadata": {},
   "outputs": [
    {
     "name": "stdout",
     "output_type": "stream",
     "text": [
      "Compra registrada para 'Maria Garcia'. Total de la compra: €60.0\n"
     ]
    }
   ],
   "source": [
    "class TiendaOnline:\n",
    "    def __init__(self):\n",
    "        self.inventario = []  # Lista de productos en el inventario\n",
    "        self.clientes = {     # Diccionario de clientes\n",
    "            \"Maria Garcia\": {'email': 'maria@gmail.com'},\n",
    "            \"Andrea Lopez\": {'email': 'andrea@gmail.com'}\n",
    "        }\n",
    "        self.ventas_totales = 0.0  # Registro de las ventas totales\n",
    "\n",
    "    def registrar_compra(self, nombre_cliente, carrito):\n",
    "        # Verificar si el cliente está en el diccionario de clientes\n",
    "        if nombre_cliente not in self.clientes:\n",
    "            print(f\"No se puede registrar la compra. El cliente '{nombre_cliente}' no está registrado en la tienda.\")\n",
    "            return\n",
    "        \n",
    "        # Calcular el total de la compra\n",
    "        total_compra = 0.0\n",
    "        for producto, detalles in carrito.items():\n",
    "            precio_unitario = detalles['precio']\n",
    "            cantidad = detalles['cantidad']\n",
    "            total_compra += precio_unitario * cantidad\n",
    "        \n",
    "        # Actualizar las ventas totales\n",
    "        self.ventas_totales += total_compra\n",
    "        \n",
    "        # Agregar la compra al historial del cliente\n",
    "        if 'compras' not in self.clientes[nombre_cliente]:\n",
    "            self.clientes[nombre_cliente]['compras'] = []\n",
    "            self.clientes[nombre_cliente]['compras'].append({\n",
    "            'carrito': carrito,\n",
    "            'total': total_compra\n",
    "        })\n",
    "        \n",
    "        print(f\"Compra registrada para '{nombre_cliente}'. Total de la compra: €{total_compra}\")\n",
    "\n",
    "tienda = TiendaOnline()\n",
    "carrito_maria = {\"Camisa\": {\"precio\": 20, \"cantidad\": 3}}\n",
    "tienda.registrar_compra(\"Maria Garcia\", carrito_maria)"
   ]
  },
  {
   "cell_type": "markdown",
   "metadata": {},
   "source": [
    "13. ver_compras_cliente(self, nombre_cliente): Muestra el historial de\n",
    "compras de un cliente. Debe recibir el nombre del cliente como parámetro.\n",
    "-Busca al cliente en el diccionario de clientes.\n",
    "-Muestra las compras realizadas por el cliente, incluyendo detalles de\n",
    "productos y totales."
   ]
  },
  {
   "cell_type": "code",
   "execution_count": 54,
   "metadata": {},
   "outputs": [
    {
     "name": "stdout",
     "output_type": "stream",
     "text": [
      "Historial de compras para el cliente 'Maria'\n",
      "Productos comprados:\n",
      "Nombre: pantalon, Precio: €30, Cantidad: 1\n",
      "Total de la compra: €30\n"
     ]
    }
   ],
   "source": [
    "class TiendaOnline:\n",
    "    def __init__(self):\n",
    "        self.inventario = [ \n",
    "            {'nombre': 'camisa', 'precio': 20, 'cantidad': 10},\n",
    "            {'nombre': 'pantalon', 'precio': 30, 'cantidad': 8},\n",
    "            {'nombre': 'zapatos', 'precio': 50, 'cantidad': 20}\n",
    "        ] \n",
    "        self.clientes = {     # Diccionario de clientes\n",
    "            \"Maria\": {'email': 'maria@gmail.com', 'compras': [{'nombre': 'pantalon', 'precio': 30, 'cantidad': 1}]},  # Historial de compras para el cliente Maria\n",
    "         }\n",
    "        self.ventas_totales = 0\n",
    "\n",
    "    def ver_compras_cliente(self, nombre_cliente):\n",
    "        if nombre_cliente in self.clientes:\n",
    "            print(f\"Historial de compras para el cliente '{nombre_cliente}'\")\n",
    "            historial_compras = self.clientes[nombre_cliente]['compras']\n",
    "            if historial_compras:  # Verifica si el historial de compras no está vacío\n",
    "                for compra in historial_compras:\n",
    "                    print(\"Productos comprados:\")\n",
    "                    print(f\"Nombre: {compra['nombre']}, Precio: €{compra['precio']}, Cantidad: {compra['cantidad']}\")\n",
    "                    total_compra = compra['precio'] * compra['cantidad']\n",
    "                    print(f\"Total de la compra: €{total_compra}\")\n",
    "            else:\n",
    "                print(\"El cliente no ha realizado compras.\")\n",
    "        else:\n",
    "            print(f\"No se encontró al cliente '{nombre_cliente}' en el registro.\")\n",
    "\n",
    "tienda = TiendaOnline()\n",
    "tienda.ver_compras_cliente(\"Maria\")"
   ]
  },
  {
   "cell_type": "markdown",
   "metadata": {},
   "source": [
    "14. calcular_ventas_totales(self): Muestra las ventas totales de la tienda.\n",
    "-Suma los totales de todas las compras realizadas y muestra el total de ventas totales en la tienda."
   ]
  },
  {
   "cell_type": "code",
   "execution_count": 55,
   "metadata": {},
   "outputs": [
    {
     "name": "stdout",
     "output_type": "stream",
     "text": [
      "Ventas totales de la tienda: €3470\n"
     ]
    }
   ],
   "source": [
    "class TiendaOnline:\n",
    "    def __init__(self):\n",
    "        self.inventario = [] \n",
    "        self.clientes = {}\n",
    "        self.ventas_totales = 0\n",
    "\n",
    "    def calcular_ventas_totales(self):\n",
    "        total_ventas = 3470\n",
    "        for cliente, detalles in self.clientes.items():\n",
    "            for compra in detalles['compras']:\n",
    "                total_ventas += compra['total']\n",
    "        self.ventas_totales = total_ventas\n",
    "        print(f\"Ventas totales de la tienda: €{total_ventas}\")\n",
    "\n",
    "tienda = TiendaOnline()\n",
    "tienda.calcular_ventas_totales()\n"
   ]
  },
  {
   "cell_type": "markdown",
   "metadata": {},
   "source": [
    "Instrucciones Adicionales:\n",
    "Debes crear instancias de la clase TiendaOnline y probar cada uno de los métodos\n",
    "para demostrar que funcionan correctamente."
   ]
  }
 ],
 "metadata": {
  "kernelspec": {
   "display_name": "base",
   "language": "python",
   "name": "python3"
  },
  "language_info": {
   "codemirror_mode": {
    "name": "ipython",
    "version": 3
   },
   "file_extension": ".py",
   "mimetype": "text/x-python",
   "name": "python",
   "nbconvert_exporter": "python",
   "pygments_lexer": "ipython3",
   "version": "3.9.7"
  }
 },
 "nbformat": 4,
 "nbformat_minor": 2
}
